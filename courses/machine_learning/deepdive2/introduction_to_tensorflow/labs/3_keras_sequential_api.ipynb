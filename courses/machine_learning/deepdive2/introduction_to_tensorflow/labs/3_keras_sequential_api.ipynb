{
 "cells": [
  {
   "cell_type": "markdown",
   "metadata": {},
   "source": [
    "# Introducing the Keras Sequential API\n",
    "\n",
    "**Learning Objectives**\n",
    "  1. Learn how to use feature columns in a Keras model\n",
    "  1. Build a DNN model using the Keras Sequential API\n",
    "  1. Learn how to train a model with Keras\n",
    "  1. Learn how to save/load, and deploy a Keras model on GCP\n",
    "  1. Learn how to deploy and make predictions with at Keras model\n",
    "\n",
    "## Introduction\n",
    "\n",
    "The [Keras sequential API](https://keras.io/models/sequential/) allows you to create Tensorflow models layer-by-layer. This is useful for building most kinds of machine learning models but it does not allow you to create models that share layers, re-use layers or have multiple inputs or outputs. \n",
    "\n",
    "In this lab, we'll see how to build a simple deep neural network model using the keras sequential api and feature columns. Once we have trained our model, we will deploy it using AI Platform and see how to call our model for online prediciton.\n",
    "\n",
    "Each learning objective will correspond to a __#TODO__  in this student lab notebook -- try to complete this notebook first and then review the [solution notebook](https://github.com/GoogleCloudPlatform/training-data-analyst/blob/master/courses/machine_learning/deepdive2/introduction_to_tensorflow/solutions/3_keras_sequential_api.ipynb)\n"
   ]
  },
  {
   "cell_type": "code",
   "execution_count": 57,
   "metadata": {},
   "outputs": [],
   "source": [
    "!sudo chown -R jupyter:jupyter /home/jupyter/training-data-analyst"
   ]
  },
  {
   "cell_type": "markdown",
   "metadata": {},
   "source": [
    "Please ignore any incompatibility warnings and errors and re-run the cell to view the installed tensorflow version.\n"
   ]
  },
  {
   "cell_type": "markdown",
   "metadata": {},
   "source": [
    "Start by importing the necessary libraries for this lab."
   ]
  },
  {
   "cell_type": "code",
   "execution_count": 58,
   "metadata": {},
   "outputs": [
    {
     "name": "stdout",
     "output_type": "stream",
     "text": [
      "2.1.3\n"
     ]
    }
   ],
   "source": [
    "import datetime\n",
    "import os\n",
    "import shutil\n",
    "\n",
    "import numpy as np\n",
    "import pandas as pd\n",
    "import tensorflow as tf\n",
    "\n",
    "from matplotlib import pyplot as plt\n",
    "from tensorflow import keras\n",
    "\n",
    "from tensorflow.keras.models import Sequential\n",
    "from tensorflow.keras.layers import Dense, DenseFeatures\n",
    "from tensorflow.keras.callbacks import TensorBoard\n",
    "\n",
    "print(tf.__version__)\n",
    "%matplotlib inline"
   ]
  },
  {
   "cell_type": "markdown",
   "metadata": {},
   "source": [
    "## Load raw data \n",
    "\n",
    "We will use the taxifare dataset, using the CSV files that we created in the first notebook of this sequence. Those files have been saved into `../data`."
   ]
  },
  {
   "cell_type": "code",
   "execution_count": 59,
   "metadata": {},
   "outputs": [
    {
     "name": "stdout",
     "output_type": "stream",
     "text": [
      "-rw-r--r-- 1 jupyter jupyter 123590 May 24 03:52 ../data/taxi-test.csv\n",
      "-rw-r--r-- 1 jupyter jupyter 579055 May 24 03:52 ../data/taxi-train.csv\n",
      "-rw-r--r-- 1 jupyter jupyter 123114 May 24 03:52 ../data/taxi-valid.csv\n"
     ]
    }
   ],
   "source": [
    "!ls -l ../data/*.csv"
   ]
  },
  {
   "cell_type": "code",
   "execution_count": 60,
   "metadata": {},
   "outputs": [
    {
     "name": "stdout",
     "output_type": "stream",
     "text": [
      "==> ../data/taxi-test.csv <==\n",
      "6.0,2013-03-27 03:35:00 UTC,-73.977672,40.784052,-73.965332,40.801025,2,0\n",
      "19.3,2012-05-10 18:43:16 UTC,-73.954366,40.778924,-74.004094,40.723104,1,1\n",
      "7.5,2014-05-20 23:09:00 UTC,-73.999165,40.738377,-74.003473,40.723862,2,2\n",
      "12.5,2015-02-23 19:51:31 UTC,-73.9652099609375,40.76948165893555,-73.98949432373047,40.739742279052734,1,3\n",
      "10.9,2011-03-19 03:32:00 UTC,-73.99259,40.742957,-73.989908,40.711053,1,4\n",
      "7.0,2012-09-18 12:51:11 UTC,-73.971195,40.751566,-73.975922,40.756361,1,5\n",
      "19.0,2014-05-20 23:09:00 UTC,-73.998392,40.74517,-73.939845,40.74908,1,6\n",
      "8.9,2012-07-18 08:46:08 UTC,-73.997638,40.756541,-73.973303,40.762019,1,7\n",
      "4.5,2010-07-11 20:39:08 UTC,-73.976738,40.751321,-73.986671,40.74883,1,8\n",
      "7.0,2013-12-12 02:16:40 UTC,-73.985024,40.767537,-73.981273,40.779302,1,9\n",
      "\n",
      "==> ../data/taxi-train.csv <==\n",
      "11.3,2011-01-28 20:42:59 UTC,-73.999022,40.739146,-73.990369,40.717866,1,0\n",
      "7.7,2011-06-27 04:28:06 UTC,-73.987443,40.729221,-73.979013,40.758641,1,1\n",
      "10.5,2011-04-03 00:54:53 UTC,-73.982539,40.735725,-73.954797,40.778388,1,2\n",
      "16.2,2009-04-10 04:11:56 UTC,-74.001945,40.740505,-73.91385,40.758559,1,3\n",
      "33.5,2014-02-24 18:22:00 UTC,-73.993372,40.753382,-73.8609,40.732897,2,4\n",
      "6.9,2011-12-10 00:25:23 UTC,-73.996237,40.721848,-73.989416,40.718052,1,5\n",
      "6.1,2012-09-01 14:30:19 UTC,-73.977048,40.758461,-73.984899,40.744693,2,6\n",
      "9.5,2012-11-08 13:28:07 UTC,-73.969402,40.757545,-73.950049,40.776079,1,7\n",
      "9.0,2014-07-15 11:37:25 UTC,-73.979318,40.760949,-73.95767,40.773724,1,8\n",
      "3.3,2009-11-09 18:06:58 UTC,-73.955675,40.779154,-73.961172,40.772368,1,9\n",
      "\n",
      "==> ../data/taxi-valid.csv <==\n",
      "5.3,2012-01-03 19:21:35 UTC,-73.962627,40.763214,-73.973485,40.753353,1,0\n",
      "25.3,2010-09-27 07:30:15 UTC,-73.965799,40.794243,-73.927134,40.852261,3,1\n",
      "27.5,2015-05-19 00:40:02 UTC,-73.86344146728516,40.76899719238281,-73.96058654785156,40.76129913330078,1,2\n",
      "5.7,2010-04-29 12:28:00 UTC,-73.989255,40.738912,-73.97558,40.749172,1,3\n",
      "11.5,2013-06-23 06:08:09 UTC,-73.99731,40.763735,-73.955657,40.768141,1,4\n",
      "18.0,2014-10-14 18:52:03 UTC,-73.997995,40.761638,-74.008985,40.712442,1,5\n",
      "4.9,2010-04-29 12:28:00 UTC,-73.977315,40.766182,-73.970845,40.761462,5,6\n",
      "32.33,2014-02-24 18:22:00 UTC,-73.985358,40.761352,-73.92427,40.699145,1,7\n",
      "17.0,2015-03-26 02:48:58 UTC,-73.93981170654297,40.846473693847656,-73.97361755371094,40.786983489990234,1,8\n",
      "12.5,2013-04-09 09:39:13 UTC,-73.977323,40.753934,-74.00719,40.741472,1,9\n"
     ]
    }
   ],
   "source": [
    "!head ../data/taxi*.csv"
   ]
  },
  {
   "cell_type": "markdown",
   "metadata": {},
   "source": [
    "## Use tf.data to read the CSV files\n",
    "\n",
    "We wrote these functions for reading data from the csv files above in the [previous notebook](https://github.com/GoogleCloudPlatform/training-data-analyst/blob/master/courses/machine_learning/deepdive2/introduction_to_tensorflow/labs/2_dataset_api.ipynb)."
   ]
  },
  {
   "cell_type": "code",
   "execution_count": 61,
   "metadata": {},
   "outputs": [],
   "source": [
    "CSV_COLUMNS = [\n",
    "    'fare_amount',\n",
    "    'pickup_datetime',\n",
    "    'pickup_longitude',\n",
    "    'pickup_latitude',\n",
    "    'dropoff_longitude',\n",
    "    'dropoff_latitude',\n",
    "    'passenger_count',\n",
    "    'key'\n",
    "]\n",
    "LABEL_COLUMN = 'fare_amount'\n",
    "DEFAULTS = [[0.0], ['na'], [0.0], [0.0], [0.0], [0.0], [0.0], ['na']]\n",
    "UNWANTED_COLS = ['pickup_datetime', 'key']\n",
    "\n",
    "\n",
    "def features_and_labels(row_data):\n",
    "    label = row_data.pop(LABEL_COLUMN)\n",
    "    features = row_data\n",
    "    \n",
    "    for unwanted_col in UNWANTED_COLS:\n",
    "        features.pop(unwanted_col)\n",
    "\n",
    "    return features, label\n",
    "\n",
    "\n",
    "def create_dataset(pattern, batch_size=1, mode='eval'):\n",
    "    dataset = tf.data.experimental.make_csv_dataset(\n",
    "        pattern, batch_size, CSV_COLUMNS, DEFAULTS)\n",
    "\n",
    "    dataset = dataset.map(features_and_labels)\n",
    "\n",
    "    if mode == 'train':\n",
    "        dataset = dataset.shuffle(buffer_size=1000).repeat()\n",
    "\n",
    "    # take advantage of multi-threading; 1=AUTOTUNE\n",
    "    dataset = dataset.prefetch(1)\n",
    "    return dataset"
   ]
  },
  {
   "cell_type": "markdown",
   "metadata": {},
   "source": [
    "## Build a simple keras DNN model\n",
    "\n",
    "We will use feature columns to connect our raw data to our keras DNN model. Feature columns make it easy to perform common types of feature engineering on your raw data. For example, you can one-hot encode categorical data, create feature crosses, embeddings and more. We'll cover these in more detail later in the course, but if you want to a sneak peak browse the official TensorFlow [feature columns guide](https://www.tensorflow.org/guide/feature_columns).\n",
    "\n",
    "In our case we won't do any feature engineering. However, we still need to create a list of feature columns to specify the numeric values which will be passed on to our model. To do this, we use `tf.feature_column.numeric_column()`\n",
    "\n",
    "We use a python dictionary comprehension to create the feature columns for our model, which is just an elegant alternative to a for loop."
   ]
  },
  {
   "cell_type": "markdown",
   "metadata": {},
   "source": [
    "**Lab Task #1:** Create a feature column dictionary that we will use when building our deep neural network below. The keys should be the element of the `INPUT_COLS` list, while the values should be numeric feature columns."
   ]
  },
  {
   "cell_type": "code",
   "execution_count": 62,
   "metadata": {},
   "outputs": [],
   "source": [
    "INPUT_COLS = [\n",
    "    'pickup_longitude',\n",
    "    'pickup_latitude',\n",
    "    'dropoff_longitude',\n",
    "    'dropoff_latitude',\n",
    "    'passenger_count',\n",
    "]\n",
    "\n",
    "# Create input layer of feature columns\n",
    "# TODO 1\n",
    "feature_columns = {\n",
    "    colname: tf.feature_column.numeric_column(colname)\n",
    "    for colname in INPUT_COLS\n",
    "    } # TODO -- Your code here."
   ]
  },
  {
   "cell_type": "markdown",
   "metadata": {},
   "source": [
    "Next, we create the DNN model. The Sequential model is a linear stack of layers and when building a model using the Sequential API, you configure each layer of the model in turn. Once all the layers have been added, you compile the model. "
   ]
  },
  {
   "cell_type": "markdown",
   "metadata": {},
   "source": [
    "**Lab Task #2a:** Create a deep neural network using Keras's Sequential API. In the cell below, use the `tf.keras.layers` library to create all the layers for your deep neural network. "
   ]
  },
  {
   "cell_type": "code",
   "execution_count": 63,
   "metadata": {},
   "outputs": [],
   "source": [
    "# Build a keras DNN model using Sequential API\n",
    "# TODO 2a\n",
    "model =  Sequential([\n",
    "    DenseFeatures(feature_columns=feature_columns.values()),\n",
    "    Dense(units=32, activation=\"relu\", name=\"h1\"),\n",
    "    Dense(units=16, activation=\"relu\", name=\"h2\"),\n",
    "    Dense(units=8, activation=\"relu\", name=\"h3\"),\n",
    "    Dense(units=1, activation=\"linear\", name=\"output\")\n",
    "    ])# TODO -- Your code here."
   ]
  },
  {
   "cell_type": "markdown",
   "metadata": {},
   "source": [
    "Next, to prepare the model for training, you must configure the learning process. This is done using the compile method. The compile method takes three arguments:\n",
    "\n",
    "* An optimizer. This could be the string identifier of an existing optimizer (such as `rmsprop` or `adagrad`), or an instance of the [Optimizer class](https://www.tensorflow.org/versions/r2.0/api_docs/python/tf/keras/optimizers).\n",
    "* A loss function. This is the objective that the model will try to minimize. It can be the string identifier of an existing loss function from the [Losses class](https://www.tensorflow.org/versions/r2.0/api_docs/python/tf/keras/losses) (such as categorical_crossentropy or mse), or it can be a custom objective function.\n",
    "* A list of metrics. For any machine learning problem you will want a set of metrics to evaluate your model. A metric could be the string identifier of an existing metric or a custom metric function.\n",
    "\n",
    "We will add an additional custom metric called `rmse` to our list of metrics which will return the root mean square error. "
   ]
  },
  {
   "cell_type": "markdown",
   "metadata": {},
   "source": [
    "**Lab Task #2b:** Compile the model you created above. Create a custom loss function called `rmse` which computes the root mean squared error between `y_true` and `y_pred`. Pass this function to the model as an evaluation metric. "
   ]
  },
  {
   "cell_type": "code",
   "execution_count": 64,
   "metadata": {},
   "outputs": [],
   "source": [
    "# TODO 2b\n",
    "# Create a custom evalution metric\n",
    "def rmse(y_true, y_pred):\n",
    "    return tf.sqrt(tf.reduce_mean(tf.square(y_pred - y_true))) # TODO -- Your code here.\n",
    "\n",
    "\n",
    "# Compile the keras model\n",
    "# TODO -- Your code here.\n",
    "model.compile(optimizer=\"adam\", loss=\"mse\", metrics=[rmse, \"mse\"])\n"
   ]
  },
  {
   "cell_type": "markdown",
   "metadata": {},
   "source": [
    "## Train the model\n",
    "\n",
    "To train your model, Keras provides three functions that can be used:\n",
    " 1. `.fit()` for training a model for a fixed number of epochs (iterations on a dataset).\n",
    " 2. `.fit_generator()` for training a model on data yielded batch-by-batch by a generator\n",
    " 3. `.train_on_batch()` runs a single gradient update on a single batch of data. \n",
    " \n",
    "The `.fit()` function works well for small datasets which can fit entirely in memory. However, for large datasets (or if you need to manipulate the training data on the fly via data augmentation, etc) you will need to use `.fit_generator()` instead. The `.train_on_batch()` method is for more fine-grained control over training and accepts only a single batch of data.\n",
    "\n",
    "The taxifare dataset we sampled is small enough to fit in memory, so can we could use `.fit` to train our model. Our `create_dataset` function above generates batches of training examples, so we could also use `.fit_generator`. In fact, when calling `.fit` the method inspects the data, and if it's a generator (as our dataset is) it will invoke automatically `.fit_generator` for training. \n",
    "\n",
    "We start by setting up some parameters for our training job and create the data generators for the training and validation data.\n",
    "\n",
    "We refer you the the blog post [ML Design Pattern #3: Virtual Epochs](https://medium.com/google-cloud/ml-design-pattern-3-virtual-epochs-f842296de730) for further details on why express the training in terms of `NUM_TRAIN_EXAMPLES` and `NUM_EVALS` and why, in this training code, the number of epochs is really equal to the number of evaluations we perform."
   ]
  },
  {
   "cell_type": "code",
   "execution_count": 65,
   "metadata": {},
   "outputs": [],
   "source": [
    "TRAIN_BATCH_SIZE = 1000\n",
    "NUM_TRAIN_EXAMPLES = 10000 * 5  # training dataset will repeat, wrap around\n",
    "NUM_EVALS = 50  # how many times to evaluate\n",
    "NUM_EVAL_EXAMPLES = 10000  # enough to get a reasonable sample\n",
    "\n",
    "trainds = create_dataset(\n",
    "    pattern='../data/taxi-train*',\n",
    "    batch_size=TRAIN_BATCH_SIZE,\n",
    "    mode='train')\n",
    "\n",
    "evalds = create_dataset(\n",
    "    pattern='../data/taxi-valid*',\n",
    "    batch_size=1000,\n",
    "    mode='eval').take(NUM_EVAL_EXAMPLES//1000)"
   ]
  },
  {
   "cell_type": "markdown",
   "metadata": {},
   "source": [
    "There are various arguments you can set when calling the [.fit method](https://www.tensorflow.org/versions/r2.0/api_docs/python/tf/keras/Model#fit). Here `x` specifies the input data which in our case is a `tf.data` dataset returning a tuple of (inputs, targets). The `steps_per_epoch` parameter is used to mark the end of training for a single epoch. Here we are training for NUM_EVALS epochs. Lastly, for the `callback` argument we specify a Tensorboard callback so we can inspect Tensorboard after training. "
   ]
  },
  {
   "cell_type": "markdown",
   "metadata": {},
   "source": [
    "**Lab Task #3:** In the cell below, you will train your model. First, define the `steps_per_epoch` then train your model using `.fit()`, saving the model training output to a variable called `history`."
   ]
  },
  {
   "cell_type": "code",
   "execution_count": 66,
   "metadata": {},
   "outputs": [
    {
     "name": "stdout",
     "output_type": "stream",
     "text": [
      "CPU times: user 2 µs, sys: 1e+03 ns, total: 3 µs\n",
      "Wall time: 6.91 µs\n",
      "Train for 1 steps, validate for 10 steps\n",
      "Epoch 1/50\n",
      "1/1 [==============================] - 14s 14s/step - loss: 211.5925 - rmse: 14.5462 - mse: 211.5925 - val_loss: 236.5880 - val_rmse: 15.3714 - val_mse: 236.5880\n",
      "Epoch 2/50\n",
      "WARNING:tensorflow:Method (on_train_batch_end) is slow compared to the batch update (0.469111). Check your callbacks.\n",
      "1/1 [==============================] - 1s 739ms/step - loss: 216.8213 - rmse: 14.7249 - mse: 216.8213 - val_loss: 218.1285 - val_rmse: 14.7586 - val_mse: 218.1285\n",
      "Epoch 3/50\n",
      "1/1 [==============================] - 0s 304ms/step - loss: 165.3652 - rmse: 12.8594 - mse: 165.3652 - val_loss: 203.4091 - val_rmse: 14.2518 - val_mse: 203.4091\n",
      "Epoch 4/50\n",
      "1/1 [==============================] - 0s 314ms/step - loss: 202.1645 - rmse: 14.2185 - mse: 202.1645 - val_loss: 193.4765 - val_rmse: 13.8942 - val_mse: 193.4765\n",
      "Epoch 5/50\n",
      "1/1 [==============================] - 0s 372ms/step - loss: 189.9313 - rmse: 13.7816 - mse: 189.9313 - val_loss: 185.5833 - val_rmse: 13.6159 - val_mse: 185.5833\n",
      "Epoch 6/50\n",
      "1/1 [==============================] - 0s 420ms/step - loss: 165.4304 - rmse: 12.8620 - mse: 165.4304 - val_loss: 177.7305 - val_rmse: 13.3087 - val_mse: 177.7305\n",
      "Epoch 7/50\n",
      "1/1 [==============================] - 0s 355ms/step - loss: 153.6143 - rmse: 12.3941 - mse: 153.6143 - val_loss: 166.3794 - val_rmse: 12.8873 - val_mse: 166.3794\n",
      "Epoch 8/50\n",
      "1/1 [==============================] - 0s 320ms/step - loss: 127.0116 - rmse: 11.2699 - mse: 127.0116 - val_loss: 162.3497 - val_rmse: 12.7353 - val_mse: 162.3497\n",
      "Epoch 9/50\n",
      "1/1 [==============================] - 0s 491ms/step - loss: 140.3101 - rmse: 11.8453 - mse: 140.3101 - val_loss: 151.7790 - val_rmse: 12.3058 - val_mse: 151.7790\n",
      "Epoch 10/50\n",
      "1/1 [==============================] - 0s 415ms/step - loss: 111.1462 - rmse: 10.5426 - mse: 111.1462 - val_loss: 145.5410 - val_rmse: 12.0569 - val_mse: 145.5410\n",
      "Epoch 11/50\n",
      "1/1 [==============================] - 0s 427ms/step - loss: 145.7349 - rmse: 12.0721 - mse: 145.7349 - val_loss: 140.4159 - val_rmse: 11.8362 - val_mse: 140.4159\n",
      "Epoch 12/50\n",
      "1/1 [==============================] - 0s 461ms/step - loss: 154.9608 - rmse: 12.4483 - mse: 154.9608 - val_loss: 136.7479 - val_rmse: 11.6889 - val_mse: 136.7479\n",
      "Epoch 13/50\n",
      "1/1 [==============================] - 0s 441ms/step - loss: 118.1874 - rmse: 10.8714 - mse: 118.1874 - val_loss: 132.0499 - val_rmse: 11.4778 - val_mse: 132.0499\n",
      "Epoch 14/50\n",
      "1/1 [==============================] - 0s 460ms/step - loss: 138.4817 - rmse: 11.7678 - mse: 138.4817 - val_loss: 125.7247 - val_rmse: 11.2031 - val_mse: 125.7248\n",
      "Epoch 15/50\n",
      "1/1 [==============================] - 0s 444ms/step - loss: 139.0498 - rmse: 11.7919 - mse: 139.0498 - val_loss: 123.8374 - val_rmse: 11.1216 - val_mse: 123.8374\n",
      "Epoch 16/50\n",
      "1/1 [==============================] - 0s 299ms/step - loss: 103.9336 - rmse: 10.1948 - mse: 103.9336 - val_loss: 122.5105 - val_rmse: 11.0532 - val_mse: 122.5105\n",
      "Epoch 17/50\n",
      "1/1 [==============================] - 1s 516ms/step - loss: 101.7783 - rmse: 10.0885 - mse: 101.7783 - val_loss: 118.0513 - val_rmse: 10.8546 - val_mse: 118.0512\n",
      "Epoch 18/50\n",
      "1/1 [==============================] - 0s 483ms/step - loss: 110.2978 - rmse: 10.5023 - mse: 110.2978 - val_loss: 115.5099 - val_rmse: 10.7286 - val_mse: 115.5099\n",
      "Epoch 19/50\n",
      "1/1 [==============================] - 1s 505ms/step - loss: 111.6797 - rmse: 10.5679 - mse: 111.6797 - val_loss: 112.7543 - val_rmse: 10.6051 - val_mse: 112.7543\n",
      "Epoch 20/50\n",
      "1/1 [==============================] - 0s 480ms/step - loss: 84.0079 - rmse: 9.1656 - mse: 84.0079 - val_loss: 112.0680 - val_rmse: 10.5577 - val_mse: 112.0680\n",
      "Epoch 21/50\n",
      "1/1 [==============================] - 0s 460ms/step - loss: 101.7452 - rmse: 10.0869 - mse: 101.7452 - val_loss: 112.6964 - val_rmse: 10.6087 - val_mse: 112.6964\n",
      "Epoch 22/50\n",
      "1/1 [==============================] - 0s 438ms/step - loss: 79.3507 - rmse: 8.9079 - mse: 79.3507 - val_loss: 109.6723 - val_rmse: 10.4582 - val_mse: 109.6723\n",
      "Epoch 23/50\n",
      "1/1 [==============================] - 1s 526ms/step - loss: 85.2743 - rmse: 9.2344 - mse: 85.2743 - val_loss: 109.0346 - val_rmse: 10.4228 - val_mse: 109.0346\n",
      "Epoch 24/50\n",
      "1/1 [==============================] - 0s 457ms/step - loss: 86.7820 - rmse: 9.3157 - mse: 86.7820 - val_loss: 108.6328 - val_rmse: 10.4147 - val_mse: 108.6328\n",
      "Epoch 25/50\n",
      "1/1 [==============================] - 0s 449ms/step - loss: 107.5991 - rmse: 10.3730 - mse: 107.5991 - val_loss: 109.6648 - val_rmse: 10.4580 - val_mse: 109.6648\n",
      "Epoch 26/50\n",
      "1/1 [==============================] - 0s 494ms/step - loss: 105.6297 - rmse: 10.2776 - mse: 105.6297 - val_loss: 111.3444 - val_rmse: 10.5246 - val_mse: 111.3444\n",
      "Epoch 27/50\n",
      "1/1 [==============================] - 1s 532ms/step - loss: 85.4329 - rmse: 9.2430 - mse: 85.4329 - val_loss: 109.1175 - val_rmse: 10.4373 - val_mse: 109.1175\n",
      "Epoch 28/50\n",
      "1/1 [==============================] - 1s 615ms/step - loss: 77.1291 - rmse: 8.7823 - mse: 77.1291 - val_loss: 109.1143 - val_rmse: 10.4360 - val_mse: 109.1143\n",
      "Epoch 29/50\n",
      "1/1 [==============================] - 0s 469ms/step - loss: 100.9311 - rmse: 10.0464 - mse: 100.9311 - val_loss: 110.8117 - val_rmse: 10.5084 - val_mse: 110.8117\n",
      "Epoch 30/50\n",
      "1/1 [==============================] - 0s 440ms/step - loss: 87.5515 - rmse: 9.3569 - mse: 87.5515 - val_loss: 111.4345 - val_rmse: 10.5333 - val_mse: 111.4345\n",
      "Epoch 31/50\n",
      "1/1 [==============================] - 0s 410ms/step - loss: 87.4501 - rmse: 9.3515 - mse: 87.4501 - val_loss: 109.9935 - val_rmse: 10.4850 - val_mse: 109.9935\n",
      "Epoch 32/50\n",
      "1/1 [==============================] - 0s 378ms/step - loss: 97.8802 - rmse: 9.8934 - mse: 97.8802 - val_loss: 111.5960 - val_rmse: 10.5509 - val_mse: 111.5960\n",
      "Epoch 33/50\n",
      "1/1 [==============================] - 0s 336ms/step - loss: 93.8459 - rmse: 9.6874 - mse: 93.8459 - val_loss: 112.9643 - val_rmse: 10.6171 - val_mse: 112.9643\n",
      "Epoch 34/50\n",
      "1/1 [==============================] - 1s 514ms/step - loss: 119.8401 - rmse: 10.9472 - mse: 119.8401 - val_loss: 113.2110 - val_rmse: 10.6130 - val_mse: 113.2111\n",
      "Epoch 35/50\n",
      "1/1 [==============================] - 0s 440ms/step - loss: 101.5384 - rmse: 10.0766 - mse: 101.5384 - val_loss: 112.9045 - val_rmse: 10.6088 - val_mse: 112.9045\n",
      "Epoch 36/50\n",
      "1/1 [==============================] - 1s 513ms/step - loss: 74.8774 - rmse: 8.6532 - mse: 74.8774 - val_loss: 111.9564 - val_rmse: 10.5728 - val_mse: 111.9564\n",
      "Epoch 37/50\n",
      "1/1 [==============================] - 1s 557ms/step - loss: 89.4587 - rmse: 9.4583 - mse: 89.4587 - val_loss: 110.2005 - val_rmse: 10.4908 - val_mse: 110.2005\n",
      "Epoch 38/50\n",
      "1/1 [==============================] - 0s 417ms/step - loss: 86.6251 - rmse: 9.3073 - mse: 86.6251 - val_loss: 110.7495 - val_rmse: 10.5143 - val_mse: 110.7495\n",
      "Epoch 39/50\n",
      "1/1 [==============================] - 0s 419ms/step - loss: 95.2045 - rmse: 9.7573 - mse: 95.2045 - val_loss: 111.0750 - val_rmse: 10.5149 - val_mse: 111.0750\n",
      "Epoch 40/50\n",
      "1/1 [==============================] - 0s 464ms/step - loss: 122.4041 - rmse: 11.0636 - mse: 122.4041 - val_loss: 109.9229 - val_rmse: 10.4723 - val_mse: 109.9229\n",
      "Epoch 41/50\n",
      "1/1 [==============================] - 0s 440ms/step - loss: 109.6125 - rmse: 10.4696 - mse: 109.6125 - val_loss: 110.9461 - val_rmse: 10.5100 - val_mse: 110.9461\n",
      "Epoch 42/50\n",
      "1/1 [==============================] - 0s 475ms/step - loss: 104.3854 - rmse: 10.2169 - mse: 104.3854 - val_loss: 110.4058 - val_rmse: 10.4987 - val_mse: 110.4057\n",
      "Epoch 43/50\n",
      "1/1 [==============================] - 1s 515ms/step - loss: 73.6839 - rmse: 8.5839 - mse: 73.6839 - val_loss: 110.9259 - val_rmse: 10.5242 - val_mse: 110.9259\n",
      "Epoch 44/50\n",
      "1/1 [==============================] - 0s 393ms/step - loss: 119.2477 - rmse: 10.9201 - mse: 119.2477 - val_loss: 109.4657 - val_rmse: 10.4536 - val_mse: 109.4657\n",
      "Epoch 45/50\n",
      "1/1 [==============================] - 0s 369ms/step - loss: 84.3422 - rmse: 9.1838 - mse: 84.3422 - val_loss: 110.0811 - val_rmse: 10.4826 - val_mse: 110.0811\n",
      "Epoch 46/50\n",
      "1/1 [==============================] - 0s 363ms/step - loss: 96.2704 - rmse: 9.8117 - mse: 96.2704 - val_loss: 110.1162 - val_rmse: 10.4859 - val_mse: 110.1162\n",
      "Epoch 47/50\n",
      "1/1 [==============================] - 0s 403ms/step - loss: 90.2174 - rmse: 9.4983 - mse: 90.2174 - val_loss: 110.9113 - val_rmse: 10.5139 - val_mse: 110.9113\n",
      "Epoch 48/50\n",
      "1/1 [==============================] - 0s 420ms/step - loss: 71.9358 - rmse: 8.4815 - mse: 71.9358 - val_loss: 109.1527 - val_rmse: 10.4234 - val_mse: 109.1527\n",
      "Epoch 49/50\n",
      "1/1 [==============================] - 0s 309ms/step - loss: 113.3600 - rmse: 10.6471 - mse: 113.3600 - val_loss: 111.0641 - val_rmse: 10.5288 - val_mse: 111.0641\n",
      "Epoch 50/50\n",
      "1/1 [==============================] - 0s 422ms/step - loss: 74.6141 - rmse: 8.6379 - mse: 74.6141 - val_loss: 110.5755 - val_rmse: 10.4891 - val_mse: 110.5755\n"
     ]
    }
   ],
   "source": [
    "# TODO 3\n",
    "%time \n",
    "steps_per_epoch = NUM_TRAIN_EXAMPLES // (TRAIN_BATCH_SIZE * NUM_EVALS)# TODO -- Your code here. \n",
    "\n",
    "LOGDIR = \"./taxi_trained\"\n",
    "# TODO -- Your code here. \n",
    "history =  model.fit(x=trainds,\n",
    "                    steps_per_epoch=steps_per_epoch,\n",
    "                    epochs=NUM_EVALS,\n",
    "                    validation_data=evalds,\n",
    "                    callbacks=[TensorBoard(LOGDIR)])"
   ]
  },
  {
   "cell_type": "markdown",
   "metadata": {},
   "source": [
    "### High-level model evaluation\n",
    "\n",
    "Once we've run data through the model, we can call `.summary()` on the model to get a high-level summary of our network. We can also plot the training and evaluation curves for the metrics we computed above. "
   ]
  },
  {
   "cell_type": "code",
   "execution_count": 67,
   "metadata": {},
   "outputs": [
    {
     "name": "stdout",
     "output_type": "stream",
     "text": [
      "Model: \"sequential_3\"\n",
      "_________________________________________________________________\n",
      "Layer (type)                 Output Shape              Param #   \n",
      "=================================================================\n",
      "dense_features_3 (DenseFeatu multiple                  0         \n",
      "_________________________________________________________________\n",
      "h1 (Dense)                   multiple                  192       \n",
      "_________________________________________________________________\n",
      "h2 (Dense)                   multiple                  528       \n",
      "_________________________________________________________________\n",
      "h3 (Dense)                   multiple                  136       \n",
      "_________________________________________________________________\n",
      "output (Dense)               multiple                  9         \n",
      "=================================================================\n",
      "Total params: 865\n",
      "Trainable params: 865\n",
      "Non-trainable params: 0\n",
      "_________________________________________________________________\n"
     ]
    }
   ],
   "source": [
    "model.summary()"
   ]
  },
  {
   "cell_type": "markdown",
   "metadata": {},
   "source": [
    "Running `.fit` (or `.fit_generator`) returns a History object which collects all the events recorded during training. Similar to Tensorboard, we can plot the training and validation curves for the model loss and rmse by accessing these elements of the History object."
   ]
  },
  {
   "cell_type": "code",
   "execution_count": 68,
   "metadata": {},
   "outputs": [
    {
     "data": {
      "text/plain": [
       "<AxesSubplot:>"
      ]
     },
     "execution_count": 68,
     "metadata": {},
     "output_type": "execute_result"
    },
    {
     "data": {
      "image/png": "[encoded data removed]",
      "text/plain": [
       "<Figure size 432x288 with 1 Axes>"
      ]
     },
     "metadata": {
      "needs_background": "light"
     },
     "output_type": "display_data"
    }
   ],
   "source": [
    "RMSE_COLS = ['rmse', 'val_rmse']\n",
    "\n",
    "pd.DataFrame(history.history)[RMSE_COLS].plot()"
   ]
  },
  {
   "cell_type": "code",
   "execution_count": 69,
   "metadata": {},
   "outputs": [
    {
     "data": {
      "text/plain": [
       "<AxesSubplot:>"
      ]
     },
     "execution_count": 69,
     "metadata": {},
     "output_type": "execute_result"
    },
    {
     "data": {
      "image/png": "[encoded data removed]",
      "text/plain": [
       "<Figure size 432x288 with 1 Axes>"
      ]
     },
     "metadata": {
      "needs_background": "light"
     },
     "output_type": "display_data"
    }
   ],
   "source": [
    "LOSS_COLS = ['loss', 'val_loss']\n",
    "\n",
    "pd.DataFrame(history.history)[LOSS_COLS].plot()"
   ]
  },
  {
   "cell_type": "markdown",
   "metadata": {},
   "source": [
    "# Making predictions with our model\n",
    "\n",
    "To make predictions with our trained model, we can call the [predict method](https://www.tensorflow.org/api_docs/python/tf/keras/Model#predict), passing to it a dictionary of values. The `steps` parameter determines the total number of steps before declaring the prediction round finished. Here since we have just one example, we set `steps=1` (setting `steps=None` would also work). Note, however, that if x is a `tf.data` dataset or a dataset iterator, and steps is set to None, predict will run until the input dataset is exhausted."
   ]
  },
  {
   "cell_type": "code",
   "execution_count": 70,
   "metadata": {},
   "outputs": [
    {
     "data": {
      "text/plain": [
       "array([[11.675655]], dtype=float32)"
      ]
     },
     "execution_count": 70,
     "metadata": {},
     "output_type": "execute_result"
    }
   ],
   "source": [
    "model.predict(x={\"pickup_longitude\": tf.convert_to_tensor([-73.982683]),\n",
    "                 \"pickup_latitude\": tf.convert_to_tensor([40.742104]),\n",
    "                 \"dropoff_longitude\": tf.convert_to_tensor([-73.983766]),\n",
    "                 \"dropoff_latitude\": tf.convert_to_tensor([40.755174]),\n",
    "                 \"passenger_count\": tf.convert_to_tensor([3.0])},\n",
    "              steps=1)"
   ]
  },
  {
   "cell_type": "markdown",
   "metadata": {},
   "source": [
    "# Export and deploy our model\n",
    "\n",
    "Of course, making individual predictions is not realistic, because we can't expect client code to have a model object in memory. For others to use our trained model, we'll have to export our model to a file, and expect client code to instantiate the model from that exported file. \n",
    "\n",
    "We'll export the model to a TensorFlow SavedModel format. Once we have a model in this format, we have lots of ways to \"serve\" the model, from a web application, from JavaScript, from mobile applications, etc."
   ]
  },
  {
   "cell_type": "markdown",
   "metadata": {},
   "source": [
    "**Lab Task #4:** Use `tf.saved_model.save` to export the trained model to a Tensorflow SavedModel format. Reference the [documentation for `tf.saved_model.save`](https://www.tensorflow.org/api_docs/python/tf/saved_model/save) as you fill in the code for the cell below.\n",
    "\n",
    "Next, print the signature of your saved model using the SavedModel Command Line Interface command `saved_model_cli`. You can read more about the command line interface and the `show` and `run` commands it supports in the [documentation here](https://www.tensorflow.org/guide/saved_model#overview_of_commands). "
   ]
  },
  {
   "cell_type": "code",
   "execution_count": 71,
   "metadata": {},
   "outputs": [
    {
     "name": "stdout",
     "output_type": "stream",
     "text": [
      "INFO:tensorflow:Assets written to: ./export/savedmodel/20210526062218/assets\n"
     ]
    }
   ],
   "source": [
    "# TODO 4a\n",
    "OUTPUT_DIR = \"./export/savedmodel\"\n",
    "shutil.rmtree(OUTPUT_DIR, ignore_errors=True)\n",
    "EXPORT_PATH = os.path.join(OUTPUT_DIR,\n",
    "                           datetime.datetime.now().strftime(\"%Y%m%d%H%M%S\"))\n",
    "\n",
    "tf.saved_model.save(model, EXPORT_PATH) # TODO -- Your code here. "
   ]
  },
  {
   "cell_type": "code",
   "execution_count": 72,
   "metadata": {},
   "outputs": [
    {
     "name": "stdout",
     "output_type": "stream",
     "text": [
      "The given SavedModel SignatureDef contains the following input(s):\n",
      "  inputs['dropoff_latitude'] tensor_info:\n",
      "      dtype: DT_FLOAT\n",
      "      shape: (-1, 1)\n",
      "      name: serving_default_dropoff_latitude:0\n",
      "  inputs['dropoff_longitude'] tensor_info:\n",
      "      dtype: DT_FLOAT\n",
      "      shape: (-1, 1)\n",
      "      name: serving_default_dropoff_longitude:0\n",
      "  inputs['passenger_count'] tensor_info:\n",
      "      dtype: DT_FLOAT\n",
      "      shape: (-1, 1)\n",
      "      name: serving_default_passenger_count:0\n",
      "  inputs['pickup_latitude'] tensor_info:\n",
      "      dtype: DT_FLOAT\n",
      "      shape: (-1, 1)\n",
      "      name: serving_default_pickup_latitude:0\n",
      "  inputs['pickup_longitude'] tensor_info:\n",
      "      dtype: DT_FLOAT\n",
      "      shape: (-1, 1)\n",
      "      name: serving_default_pickup_longitude:0\n",
      "The given SavedModel SignatureDef contains the following output(s):\n",
      "  outputs['output_1'] tensor_info:\n",
      "      dtype: DT_FLOAT\n",
      "      shape: (-1, 1)\n",
      "      name: StatefulPartitionedCall:0\n",
      "Method name is: tensorflow/serving/predict\n",
      "./export/savedmodel/20210526062218\n",
      "./export/savedmodel/20210526062218/assets\n",
      "./export/savedmodel/20210526062218/saved_model.pb\n",
      "./export/savedmodel/20210526062218/variables\n",
      "./export/savedmodel/20210526062218/variables/variables.data-00000-of-00001\n",
      "./export/savedmodel/20210526062218/variables/variables.index\n"
     ]
    }
   ],
   "source": [
    "# TODO 4b\n",
    "!saved_model_cli show \\\n",
    " --tag_set serve \\\n",
    " --signature_def serving_default \\\n",
    " --dir {EXPORT_PATH}\n",
    "!find {EXPORT_PATH}\n",
    "os.environ['EXPORT_PATH'] = EXPORT_PATH"
   ]
  },
  {
   "cell_type": "markdown",
   "metadata": {},
   "source": [
    "### Deploy our model to AI Platform\n",
    "\n",
    "Finally, we will deploy our trained model to AI Platform and see how we can make online predicitons. "
   ]
  },
  {
   "cell_type": "markdown",
   "metadata": {},
   "source": [
    "**Lab Task #5a:** Complete the code in the cell below to deploy your trained model to AI Platform using the `gcloud ai-platform versions create` command. Have a look at [the documentation for how to create model version with gcloud](https://cloud.google.com/sdk/gcloud/reference/ai-platform/versions/create)."
   ]
  },
  {
   "cell_type": "code",
   "execution_count": 73,
   "metadata": {},
   "outputs": [
    {
     "name": "stderr",
     "output_type": "stream",
     "text": [
      "Updated property [compute/region].\n",
      "Updated property [ai_platform/region].\n"
     ]
    }
   ],
   "source": [
    "%%bash\n",
    "gcloud config set compute/region us-east1\n",
    "gcloud config set ai_platform/region global\n"
   ]
  },
  {
   "cell_type": "markdown",
   "metadata": {},
   "source": [
    "**Below cell will take around 10 minutes to complete.**"
   ]
  },
  {
   "cell_type": "code",
   "execution_count": 74,
   "metadata": {},
   "outputs": [
    {
     "name": "stdout",
     "output_type": "stream",
     "text": [
      "Bucket exists, let's not recreate it.\n",
      "taxifare already exists\n",
      "Deleting already existing taxifare:dnn ... \n",
      "Please run this cell again if you don't see a Creating message ... \n",
      "Creating taxifare:dnn\n"
     ]
    },
    {
     "name": "stderr",
     "output_type": "stream",
     "text": [
      "Using endpoint [https://us-east1-ml.googleapis.com/]\n",
      "Using endpoint [https://us-east1-ml.googleapis.com/]\n",
      "Using endpoint [https://us-east1-ml.googleapis.com/]\n",
      "This will delete version [dnn]...\n",
      "\n",
      "Do you want to continue (Y/n)?  \n",
      "Deleting version [dnn]......\n",
      "................................................................................................................................................................done.\n",
      "Using endpoint [https://us-east1-ml.googleapis.com/]\n",
      "Creating version (this might take a few minutes)......\n",
      "..............................................................................................................................................................................................................................................................................................................................................................................................................................................................................................done.\n"
     ]
    }
   ],
   "source": [
    "%%bash\n",
    "\n",
    "# TODO 5a\n",
    "PROJECT=qwiklabs-gcp-04-014eea1283f0 \n",
    "BUCKET=${PROJECT}\n",
    "REGION=us-east1\n",
    "MODEL_NAME=taxifare\n",
    "VERSION_NAME=dnn\n",
    "\n",
    "## Create GCS bucket if it doesn't exist already...\n",
    "exists=$(gsutil ls -d | grep -w gs://${BUCKET}/)\n",
    "\n",
    "if [ -n \"$exists\" ]; then\n",
    "    echo -e \"Bucket exists, let's not recreate it.\"\n",
    "else\n",
    "    echo \"Creating a new GCS bucket.\"\n",
    "    gsutil mb -l ${REGION} gs://${BUCKET}\n",
    "    echo \"Here are your current buckets:\"\n",
    "    gsutil ls\n",
    "fi\n",
    "\n",
    "if [[ $(gcloud ai-platform models list --format='value(name)' --region=$REGION | grep $MODEL_NAME) ]]; then\n",
    "    echo \"$MODEL_NAME already exists\"\n",
    "else\n",
    "    echo \"Creating $MODEL_NAME\"\n",
    "    gcloud ai-platform models create --region=$REGION $MODEL_NAME\n",
    "fi\n",
    "\n",
    "if [[ $(gcloud ai-platform versions list --model $MODEL_NAME --region=$REGION --format='value(name)' | grep $VERSION_NAME) ]]; then\n",
    "    echo \"Deleting already existing $MODEL_NAME:$VERSION_NAME ... \"\n",
    "    echo yes | gcloud ai-platform versions delete --model=$MODEL_NAME $VERSION_NAME --region=$REGION\n",
    "    echo \"Please run this cell again if you don't see a Creating message ... \"\n",
    "    sleep 2\n",
    "fi\n",
    "\n",
    "echo \"Creating $MODEL_NAME:$VERSION_NAME\"\n",
    "gcloud ai-platform versions create --model=$MODEL_NAME  $VERSION_NAME --framework=tensorflow --python-version=3.7 --runtime-version=2.1 --origin=$EXPORT_PATH --staging-bucket=gs://$BUCKET --region=$REGION"
   ]
  },
  {
   "cell_type": "code",
   "execution_count": 75,
   "metadata": {},
   "outputs": [
    {
     "name": "stdout",
     "output_type": "stream",
     "text": [
      "Overwriting input.json\n"
     ]
    }
   ],
   "source": [
    "%%writefile input.json\n",
    "{\"pickup_longitude\": -73.982683, \"pickup_latitude\": 40.742104,\"dropoff_longitude\": -73.983766,\"dropoff_latitude\": 40.755174,\"passenger_count\": 3.0}  "
   ]
  },
  {
   "cell_type": "markdown",
   "metadata": {},
   "source": [
    "**Lab Task #5b:** Complete the code in the cell below to call prediction on your deployed model for the example you just created in the `input.json` file above."
   ]
  },
  {
   "cell_type": "code",
   "execution_count": 76,
   "metadata": {},
   "outputs": [
    {
     "name": "stdout",
     "output_type": "stream",
     "text": [
      "Using endpoint [https://us-east1-ml.googleapis.com/]\n",
      "[[11.6756535]]\n"
     ]
    }
   ],
   "source": [
    "# TODO 5b\n",
    "!gcloud ai-platform predict --model taxifare --json-instances input.json --version dnn --region us-east1"
   ]
  },
  {
   "cell_type": "markdown",
   "metadata": {},
   "source": [
    "Copyright 2019 Google Inc. Licensed under the Apache License, Version 2.0 (the \"License\"); you may not use this file except in compliance with the License. You may obtain a copy of the License at http://www.apache.org/licenses/LICENSE-2.0 Unless required by applicable law or agreed to in writing, software distributed under the License is distributed on an \"AS IS\" BASIS, WITHOUT WARRANTIES OR CONDITIONS OF ANY KIND, either express or implied. See the License for the specific language governing permissions and limitations under the License"
   ]
  },
  {
   "cell_type": "code",
   "execution_count": null,
   "metadata": {},
   "outputs": [],
   "source": []
  }
 ],
 "metadata": {
  "environment": {
   "name": "tf2-gpu.2-1.m69",
   "type": "gcloud",
   "uri": "gcr.io/deeplearning-platform-release/tf2-gpu.2-1:m69"
  },
  "kernelspec": {
   "display_name": "Python 3",
   "language": "python",
   "name": "python3"
  },
  "language_info": {
   "codemirror_mode": {
    "name": "ipython",
    "version": 3
   },
   "file_extension": ".py",
   "mimetype": "text/x-python",
   "name": "python",
   "nbconvert_exporter": "python",
   "pygments_lexer": "ipython3",
   "version": "3.7.10"
  }
 },
 "nbformat": 4,
 "nbformat_minor": 4
}
