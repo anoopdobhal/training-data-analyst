{
 "cells": [
  {
   "cell_type": "markdown",
   "metadata": {},
   "source": [
    "# Introducing the Keras Functional API\n",
    "\n",
    "**Learning Objectives**\n",
    "  1. Understand embeddings and how to create them with the feature column API\n",
    "  1. Understand Deep and Wide models and when to use them\n",
    "  1. Understand the Keras functional API and how to build a deep and wide model with it\n",
    "\n",
    "## Introduction\n",
    "\n",
    "In the last notebook, we learned about the Keras Sequential API. The [Keras Functional API](https://www.tensorflow.org/guide/keras#functional_api) provides an alternate way of building models which is more flexible. With the Functional API, we can build models with more complex topologies, multiple input or output layers, shared layers or non-sequential data flows (e.g. residual layers).\n",
    "\n",
    "In this notebook we'll use what we learned about feature columns to build a Wide & Deep model. Recall, that the idea behind Wide & Deep models is to join the two methods of learning through memorization and generalization by making a wide linear model and a deep learning model to accommodate both. You can have a look at the original research paper here: [Wide & Deep Learning for Recommender Systems](https://arxiv.org/abs/1606.07792).\n",
    "\n",
    "<img src='assets/wide_deep.png' width='80%'>\n",
    "<sup>(image: https://ai.googleblog.com/2016/06/wide-deep-learning-better-together-with.html)</sup>\n",
    "\n",
    "The Wide part of the model is associated with the memory element. In this case, we train a linear model with a wide set of crossed features and learn the correlation of this related data with the assigned label. The Deep part of the model is associated with the generalization element where we use embedding vectors for features. The best embeddings are then learned through the training process. While both of these methods can work well alone, Wide & Deep models excel by combining these techniques together.\n",
    "\n",
    "Each learning objective will correspond to a __#TODO__  in this student lab notebook -- try to complete this notebook first and then review the [solution notebook](https://github.com/GoogleCloudPlatform/training-data-analyst/blob/master/courses/machine_learning/deepdive2/introduction_to_tensorflow/solutions/4_keras_functional_api.ipynb)\n"
   ]
  },
  {
   "cell_type": "code",
   "execution_count": 1,
   "metadata": {},
   "outputs": [],
   "source": [
    "# Use the chown command to change the ownership of the repository.\n",
    "!sudo chown -R jupyter:jupyter /home/jupyter/training-data-analyst"
   ]
  },
  {
   "cell_type": "code",
   "execution_count": 2,
   "metadata": {},
   "outputs": [
    {
     "name": "stdout",
     "output_type": "stream",
     "text": [
      "Collecting tensorflow==2.3\n",
      "  Downloading tensorflow-2.3.0-cp37-cp37m-manylinux2010_x86_64.whl (320.4 MB)\n",
      "\u001b[K     |██████████████████████████████▋ | 306.0 MB 80.0 MB/s eta 0:00:012"
     ]
    },
    {
     "name": "stderr",
     "output_type": "stream",
     "text": [
      "IOPub data rate exceeded.\n",
      "The notebook server will temporarily stop sending output\n",
      "to the client in order to avoid crashing it.\n",
      "To change this limit, set the config variable\n",
      "`--NotebookApp.iopub_data_rate_limit`.\n",
      "\n",
      "Current values:\n",
      "NotebookApp.iopub_data_rate_limit=1000000.0 (bytes/sec)\n",
      "NotebookApp.rate_limit_window=3.0 (secs)\n",
      "\n"
     ]
    },
    {
     "name": "stdout",
     "output_type": "stream",
     "text": [
      "\u001b[K     |████████████████████████████████| 320.4 MB 33 kB/s \n",
      "\u001b[?25hRequirement already satisfied: google-pasta>=0.1.8 in /opt/conda/lib/python3.7/site-packages (from tensorflow==2.3) (0.2.0)\n",
      "Requirement already satisfied: wheel>=0.26 in /opt/conda/lib/python3.7/site-packages (from tensorflow==2.3) (0.36.2)\n",
      "Requirement already satisfied: tensorboard<3,>=2.3.0 in /opt/conda/lib/python3.7/site-packages (from tensorflow==2.3) (2.5.0)\n",
      "Requirement already satisfied: grpcio>=1.8.6 in /opt/conda/lib/python3.7/site-packages (from tensorflow==2.3) (1.37.1)\n",
      "Collecting gast==0.3.3\n",
      "  Downloading gast-0.3.3-py2.py3-none-any.whl (9.7 kB)\n",
      "Collecting tensorflow-estimator<2.4.0,>=2.3.0\n",
      "  Downloading tensorflow_estimator-2.3.0-py2.py3-none-any.whl (459 kB)\n",
      "\u001b[K     |████████████████████████████████| 459 kB 54.7 MB/s eta 0:00:01\n",
      "\u001b[?25hCollecting keras-preprocessing<1.2,>=1.1.1\n",
      "  Downloading Keras_Preprocessing-1.1.2-py2.py3-none-any.whl (42 kB)\n",
      "\u001b[K     |████████████████████████████████| 42 kB 1.9 MB/s  eta 0:00:01\n",
      "\u001b[?25hRequirement already satisfied: protobuf>=3.9.2 in /opt/conda/lib/python3.7/site-packages (from tensorflow==2.3) (3.16.0)\n",
      "Requirement already satisfied: opt-einsum>=2.3.2 in /opt/conda/lib/python3.7/site-packages (from tensorflow==2.3) (3.3.0)\n",
      "Requirement already satisfied: termcolor>=1.1.0 in /opt/conda/lib/python3.7/site-packages (from tensorflow==2.3) (1.1.0)\n",
      "Collecting numpy<1.19.0,>=1.16.0\n",
      "  Downloading numpy-1.18.5-cp37-cp37m-manylinux1_x86_64.whl (20.1 MB)\n",
      "\u001b[K     |████████████████████████████████| 20.1 MB 54.7 MB/s eta 0:00:01\n",
      "\u001b[?25hRequirement already satisfied: wrapt>=1.11.1 in /opt/conda/lib/python3.7/site-packages (from tensorflow==2.3) (1.12.1)\n",
      "Collecting astunparse==1.6.3\n",
      "  Downloading astunparse-1.6.3-py2.py3-none-any.whl (12 kB)\n",
      "Requirement already satisfied: six>=1.12.0 in /opt/conda/lib/python3.7/site-packages (from tensorflow==2.3) (1.16.0)\n",
      "Requirement already satisfied: h5py<2.11.0,>=2.10.0 in /opt/conda/lib/python3.7/site-packages (from tensorflow==2.3) (2.10.0)\n",
      "Requirement already satisfied: absl-py>=0.7.0 in /opt/conda/lib/python3.7/site-packages (from tensorflow==2.3) (0.8.1)\n",
      "Collecting scipy==1.4.1\n",
      "  Downloading scipy-1.4.1-cp37-cp37m-manylinux1_x86_64.whl (26.1 MB)\n",
      "\u001b[K     |████████████████████████████████| 26.1 MB 51.3 MB/s eta 0:00:01\n",
      "\u001b[?25hRequirement already satisfied: google-auth<2,>=1.6.3 in /opt/conda/lib/python3.7/site-packages (from tensorboard<3,>=2.3.0->tensorflow==2.3) (1.30.0)\n",
      "Requirement already satisfied: requests<3,>=2.21.0 in /opt/conda/lib/python3.7/site-packages (from tensorboard<3,>=2.3.0->tensorflow==2.3) (2.25.1)\n",
      "Requirement already satisfied: werkzeug>=0.11.15 in /opt/conda/lib/python3.7/site-packages (from tensorboard<3,>=2.3.0->tensorflow==2.3) (2.0.0)\n",
      "Requirement already satisfied: markdown>=2.6.8 in /opt/conda/lib/python3.7/site-packages (from tensorboard<3,>=2.3.0->tensorflow==2.3) (3.3.4)\n",
      "Requirement already satisfied: google-auth-oauthlib<0.5,>=0.4.1 in /opt/conda/lib/python3.7/site-packages (from tensorboard<3,>=2.3.0->tensorflow==2.3) (0.4.4)\n",
      "Requirement already satisfied: tensorboard-data-server<0.7.0,>=0.6.0 in /opt/conda/lib/python3.7/site-packages (from tensorboard<3,>=2.3.0->tensorflow==2.3) (0.6.1)\n",
      "Requirement already satisfied: tensorboard-plugin-wit>=1.6.0 in /opt/conda/lib/python3.7/site-packages (from tensorboard<3,>=2.3.0->tensorflow==2.3) (1.8.0)\n",
      "Requirement already satisfied: setuptools>=41.0.0 in /opt/conda/lib/python3.7/site-packages (from tensorboard<3,>=2.3.0->tensorflow==2.3) (49.6.0.post20210108)\n",
      "Requirement already satisfied: rsa<5,>=3.1.4 in /opt/conda/lib/python3.7/site-packages (from google-auth<2,>=1.6.3->tensorboard<3,>=2.3.0->tensorflow==2.3) (4.7.2)\n",
      "Requirement already satisfied: pyasn1-modules>=0.2.1 in /opt/conda/lib/python3.7/site-packages (from google-auth<2,>=1.6.3->tensorboard<3,>=2.3.0->tensorflow==2.3) (0.2.7)\n",
      "Requirement already satisfied: cachetools<5.0,>=2.0.0 in /opt/conda/lib/python3.7/site-packages (from google-auth<2,>=1.6.3->tensorboard<3,>=2.3.0->tensorflow==2.3) (4.2.2)\n",
      "Requirement already satisfied: requests-oauthlib>=0.7.0 in /opt/conda/lib/python3.7/site-packages (from google-auth-oauthlib<0.5,>=0.4.1->tensorboard<3,>=2.3.0->tensorflow==2.3) (1.3.0)\n",
      "Requirement already satisfied: importlib-metadata in /opt/conda/lib/python3.7/site-packages (from markdown>=2.6.8->tensorboard<3,>=2.3.0->tensorflow==2.3) (4.0.1)\n",
      "Requirement already satisfied: pyasn1<0.5.0,>=0.4.6 in /opt/conda/lib/python3.7/site-packages (from pyasn1-modules>=0.2.1->google-auth<2,>=1.6.3->tensorboard<3,>=2.3.0->tensorflow==2.3) (0.4.8)\n",
      "Requirement already satisfied: urllib3<1.27,>=1.21.1 in /opt/conda/lib/python3.7/site-packages (from requests<3,>=2.21.0->tensorboard<3,>=2.3.0->tensorflow==2.3) (1.26.4)\n",
      "Requirement already satisfied: idna<3,>=2.5 in /opt/conda/lib/python3.7/site-packages (from requests<3,>=2.21.0->tensorboard<3,>=2.3.0->tensorflow==2.3) (2.10)\n",
      "Requirement already satisfied: chardet<5,>=3.0.2 in /opt/conda/lib/python3.7/site-packages (from requests<3,>=2.21.0->tensorboard<3,>=2.3.0->tensorflow==2.3) (4.0.0)\n",
      "Requirement already satisfied: certifi>=2017.4.17 in /opt/conda/lib/python3.7/site-packages (from requests<3,>=2.21.0->tensorboard<3,>=2.3.0->tensorflow==2.3) (2020.12.5)\n",
      "Requirement already satisfied: oauthlib>=3.0.0 in /opt/conda/lib/python3.7/site-packages (from requests-oauthlib>=0.7.0->google-auth-oauthlib<0.5,>=0.4.1->tensorboard<3,>=2.3.0->tensorflow==2.3) (3.0.1)\n",
      "Requirement already satisfied: typing-extensions>=3.6.4 in /opt/conda/lib/python3.7/site-packages (from importlib-metadata->markdown>=2.6.8->tensorboard<3,>=2.3.0->tensorflow==2.3) (3.7.4.3)\n",
      "Requirement already satisfied: zipp>=0.5 in /opt/conda/lib/python3.7/site-packages (from importlib-metadata->markdown>=2.6.8->tensorboard<3,>=2.3.0->tensorflow==2.3) (3.4.1)\n",
      "Installing collected packages: numpy, tensorflow-estimator, scipy, keras-preprocessing, gast, astunparse, tensorflow\n",
      "  Attempting uninstall: numpy\n",
      "    Found existing installation: numpy 1.19.5\n",
      "    Uninstalling numpy-1.19.5:\n",
      "      Successfully uninstalled numpy-1.19.5\n",
      "  Attempting uninstall: tensorflow-estimator\n",
      "    Found existing installation: tensorflow-estimator 2.1.0\n",
      "    Uninstalling tensorflow-estimator-2.1.0:\n",
      "      Successfully uninstalled tensorflow-estimator-2.1.0\n",
      "  Attempting uninstall: scipy\n",
      "    Found existing installation: scipy 1.6.3\n",
      "    Uninstalling scipy-1.6.3:\n",
      "      Successfully uninstalled scipy-1.6.3\n",
      "  Attempting uninstall: keras-preprocessing\n",
      "    Found existing installation: Keras-Preprocessing 1.1.0\n",
      "    Uninstalling Keras-Preprocessing-1.1.0:\n",
      "      Successfully uninstalled Keras-Preprocessing-1.1.0\n",
      "  Attempting uninstall: gast\n",
      "    Found existing installation: gast 0.2.2\n",
      "    Uninstalling gast-0.2.2:\n",
      "      Successfully uninstalled gast-0.2.2\n",
      "  Attempting uninstall: tensorflow\n",
      "    Found existing installation: tensorflow 2.1.3\n",
      "    Uninstalling tensorflow-2.1.3:\n",
      "      Successfully uninstalled tensorflow-2.1.3\n",
      "\u001b[31mERROR: pip's dependency resolver does not currently take into account all the packages that are installed. This behaviour is the source of the following dependency conflicts.\n",
      "witwidget 1.7.0 requires oauth2client>=4.1.3, but you have oauth2client 3.0.0 which is incompatible.\n",
      "tfx 0.21.5 requires docker<5,>=4.1, but you have docker 5.0.0 which is incompatible.\n",
      "tfx 0.21.5 requires google-api-python-client<2,>=1.7.8, but you have google-api-python-client 2.3.0 which is incompatible.\n",
      "tfx 0.21.5 requires kubernetes<11,>=10.0.1, but you have kubernetes 12.0.1 which is incompatible.\n",
      "tfx 0.21.5 requires pyarrow<0.16,>=0.15, but you have pyarrow 4.0.0 which is incompatible.\n",
      "tfx-bsl 0.21.4 requires google-api-python-client<2,>=1.7.11, but you have google-api-python-client 2.3.0 which is incompatible.\n",
      "tfx-bsl 0.21.4 requires pyarrow<0.16.0,>=0.15.0, but you have pyarrow 4.0.0 which is incompatible.\n",
      "tensorflow-transform 0.21.2 requires tensorflow<2.2,>=1.15, but you have tensorflow 2.3.0 which is incompatible.\n",
      "tensorflow-serving-api 2.1.0 requires tensorflow~=2.1.0, but you have tensorflow 2.3.0 which is incompatible.\n",
      "tensorflow-model-analysis 0.21.6 requires pyarrow<1,>=0.15, but you have pyarrow 4.0.0 which is incompatible.\n",
      "tensorflow-io 0.11.0 requires tensorflow==2.1.0, but you have tensorflow 2.3.0 which is incompatible.\n",
      "tensorflow-data-validation 0.21.5 requires joblib<0.15,>=0.12, but you have joblib 1.0.1 which is incompatible.\n",
      "tensorflow-data-validation 0.21.5 requires pandas<1,>=0.24, but you have pandas 1.2.4 which is incompatible.\n",
      "tensorflow-data-validation 0.21.5 requires scikit-learn<0.22,>=0.18, but you have scikit-learn 0.24.2 which is incompatible.\n",
      "phik 0.11.2 requires scipy>=1.5.2, but you have scipy 1.4.1 which is incompatible.\n",
      "apache-beam 2.17.0 requires httplib2<=0.12.0,>=0.8, but you have httplib2 0.19.1 which is incompatible.\n",
      "apache-beam 2.17.0 requires pyarrow<0.16.0,>=0.15.1; python_version >= \"3.0\" or platform_system != \"Windows\", but you have pyarrow 4.0.0 which is incompatible.\u001b[0m\n",
      "Successfully installed astunparse-1.6.3 gast-0.3.3 keras-preprocessing-1.1.2 numpy-1.18.5 scipy-1.4.1 tensorflow-2.3.0 tensorflow-estimator-2.3.0\n"
     ]
    }
   ],
   "source": [
    "# Ensure the right version of Tensorflow is installed.\n",
    "!pip freeze | grep tensorflow==2.3 || pip install tensorflow==2.3"
   ]
  },
  {
   "cell_type": "markdown",
   "metadata": {},
   "source": [
    "Kindly ignore the deprecation warnings and incompatibility errors."
   ]
  },
  {
   "cell_type": "markdown",
   "metadata": {},
   "source": [
    "Start by importing the necessary libraries for this lab."
   ]
  },
  {
   "cell_type": "code",
   "execution_count": 3,
   "metadata": {},
   "outputs": [
    {
     "name": "stdout",
     "output_type": "stream",
     "text": [
      "2.3.0\n"
     ]
    }
   ],
   "source": [
    "import datetime\n",
    "import os\n",
    "import shutil\n",
    "\n",
    "import numpy as np\n",
    "import pandas as pd\n",
    "import tensorflow as tf\n",
    "\n",
    "from matplotlib import pyplot as plt\n",
    "from tensorflow import keras\n",
    "\n",
    "from tensorflow import feature_column as fc\n",
    "\n",
    "from tensorflow.keras import Model\n",
    "from tensorflow.keras.layers import (\n",
    "    Input, Dense, DenseFeatures, concatenate)\n",
    "from tensorflow.keras.callbacks import TensorBoard\n",
    "\n",
    "print(tf.__version__)"
   ]
  },
  {
   "cell_type": "code",
   "execution_count": 4,
   "metadata": {},
   "outputs": [],
   "source": [
    "%matplotlib inline"
   ]
  },
  {
   "cell_type": "markdown",
   "metadata": {},
   "source": [
    "## Load raw data \n",
    "\n",
    "We will use the taxifare dataset, using the CSV files that we created in the first notebook of this sequence. Those files have been saved into `../data`."
   ]
  },
  {
   "cell_type": "code",
   "execution_count": 5,
   "metadata": {},
   "outputs": [
    {
     "name": "stdout",
     "output_type": "stream",
     "text": [
      "-rw-r--r-- 1 jupyter jupyter 123590 May 24 03:52 ../data/taxi-test.csv\n",
      "-rw-r--r-- 1 jupyter jupyter 579055 May 24 03:52 ../data/taxi-train.csv\n",
      "-rw-r--r-- 1 jupyter jupyter 123114 May 24 03:52 ../data/taxi-valid.csv\n"
     ]
    }
   ],
   "source": [
    "!ls -l ../data/*.csv"
   ]
  },
  {
   "cell_type": "markdown",
   "metadata": {},
   "source": [
    "## Use tf.data to read the CSV files\n",
    "\n",
    "We wrote these functions for reading data from the csv files above in the [previous notebook](2_dataset_api.ipynb). For this lab we will also include some additional engineered features in our model. In particular, we will compute the difference in latitude and longitude, as well as the Euclidean distance between the pick-up and drop-off locations. We can accomplish this by adding these new features to the features dictionary with the function `add_engineered_features` below. \n",
    "\n",
    "Note that we include a call to this function when collecting our features dict and labels in the `features_and_labels` function below as well. "
   ]
  },
  {
   "cell_type": "code",
   "execution_count": 6,
   "metadata": {},
   "outputs": [],
   "source": [
    "CSV_COLUMNS = [\n",
    "    'fare_amount',\n",
    "    'pickup_datetime',\n",
    "    'pickup_longitude',\n",
    "    'pickup_latitude',\n",
    "    'dropoff_longitude',\n",
    "    'dropoff_latitude',\n",
    "    'passenger_count',\n",
    "    'key'\n",
    "]\n",
    "LABEL_COLUMN = 'fare_amount'\n",
    "DEFAULTS = [[0.0], ['na'], [0.0], [0.0], [0.0], [0.0], [0.0], ['na']]\n",
    "UNWANTED_COLS = ['pickup_datetime', 'key']\n",
    "\n",
    "\n",
    "def features_and_labels(row_data):\n",
    "    label = row_data.pop(LABEL_COLUMN)\n",
    "    features = row_data\n",
    "        \n",
    "    for unwanted_col in UNWANTED_COLS:\n",
    "        features.pop(unwanted_col)\n",
    "\n",
    "    return features, label\n",
    "\n",
    "\n",
    "def create_dataset(pattern, batch_size=1, mode='eval'):\n",
    "    dataset = tf.data.experimental.make_csv_dataset(\n",
    "        pattern, batch_size, CSV_COLUMNS, DEFAULTS)\n",
    "\n",
    "    dataset = dataset.map(features_and_labels)\n",
    "    \n",
    "    if mode == 'train':\n",
    "        dataset = dataset.shuffle(buffer_size=1000).repeat()\n",
    "\n",
    "    # take advantage of multi-threading; 1=AUTOTUNE\n",
    "    dataset = dataset.prefetch(1)\n",
    "    return dataset"
   ]
  },
  {
   "cell_type": "markdown",
   "metadata": {},
   "source": [
    "## Feature columns for Wide and Deep model\n",
    "\n",
    "For the Wide columns, we will create feature columns of crossed features. To do this, we'll create a collection of Tensorflow feature columns to pass to the `tf.feature_column.crossed_column` constructor. The Deep columns will consist of numeric columns and the embedding columns we want to create. "
   ]
  },
  {
   "cell_type": "markdown",
   "metadata": {},
   "source": [
    "**Lab Task #1:** In the cell below, create feature columns for our wide-and-deep model. You'll need to build \n",
    "1. bucketized columns using [tf.feature_column.bucketized_column](https://www.tensorflow.org/api_docs/python/tf/feature_column/bucketized_column) for the pickup and dropoff latitude and longitude,\n",
    "2. crossed columns using [tf.feature_column.crossed_column](https://www.tensorflow.org/api_docs/python/tf/feature_column/crossed_column) for those bucketized columns, and \n",
    "3. embedding columns using [tf.feature_column.embedding_column](https://www.tensorflow.org/api_docs/python/tf/feature_column/embedding_column) for the crossed columns."
   ]
  },
  {
   "cell_type": "code",
   "execution_count": 7,
   "metadata": {},
   "outputs": [],
   "source": [
    "# TODO 1\n",
    "\n",
    "# 1. Bucketize latitudes and longitudes\n",
    "NBUCKETS = 16\n",
    "latbuckets = np.linspace(start=38.0, stop=42.0, num=NBUCKETS).tolist()\n",
    "lonbuckets = np.linspace(start=-76.0, stop=-72.0, num=NBUCKETS).tolist()\n",
    "\n",
    "fc_bucketized_plat = fc.bucketized_column(\n",
    "    source_column=fc.numeric_column(\"pickup_longitude\"), boundaries=lonbuckets)# TODO: Your code goes here.\n",
    "fc_bucketized_plon = fc.bucketized_column(\n",
    "    source_column=fc.numeric_column(\"pickup_latitude\"), boundaries=latbuckets)# TODO: Your code goes here.\n",
    "fc_bucketized_dlat = fc.bucketized_column(\n",
    "    source_column=fc.numeric_column(\"dropoff_longitude\"), boundaries=lonbuckets)# TODO: Your code goes here.\n",
    "fc_bucketized_dlon = fc.bucketized_column(\n",
    "    source_column=fc.numeric_column(\"dropoff_latitude\"), boundaries=latbuckets)# TODO: Your code goes here.\n",
    "\n",
    "# 2. Cross features for locations\n",
    "fc_crossed_dloc = fc.crossed_column([fc_bucketized_dlat, fc_bucketized_dlon],\n",
    "     hash_bucket_size=NBUCKETS * NBUCKETS) # TODO: Your code goes here.\n",
    "fc_crossed_ploc = fc.crossed_column([fc_bucketized_plat, fc_bucketized_plon],\n",
    "    hash_bucket_size=NBUCKETS * NBUCKETS)# TODO: Your code goes here.\n",
    "fc_crossed_pd_pair = fc.crossed_column([fc_crossed_dloc, fc_crossed_ploc],\n",
    "    hash_bucket_size=NBUCKETS**4)# TODO: Your code goes here.\n",
    "\n",
    "# 3. Create embedding columns for the crossed columns\n",
    "fc_pd_pair = fc.embedding_column(categorical_column=fc_crossed_pd_pair, dimension=3) # TODO: Your code goes here.\n",
    "fc_dloc = fc.embedding_column(categorical_column=fc_crossed_dloc, dimension=3)# TODO: Your code goes here.\n",
    "fc_ploc = fc.embedding_column(categorical_column=fc_crossed_ploc, dimension=3)# TODO: Your code goes here."
   ]
  },
  {
   "cell_type": "markdown",
   "metadata": {},
   "source": [
    "### Gather list of feature columns\n",
    "\n",
    "Next we gather the list of wide and deep feature columns we'll pass to our Wide & Deep model in Tensorflow. Recall, wide columns are sparse, have linear relationship with the output while continuous columns are deep, have a complex relationship with the output. We will use our previously bucketized columns to collect crossed feature columns and sparse feature columns for our wide columns, and embedding feature columns and numeric features columns for the deep columns."
   ]
  },
  {
   "cell_type": "markdown",
   "metadata": {},
   "source": [
    "**Lab Task #2:** Collect the wide and deep columns into two separate lists. You'll have two lists: One called `wide_columns` containing the one-hot encoded features from the crossed features and one called `deep_columns` which contains numeric and embedding feature columns."
   ]
  },
  {
   "cell_type": "code",
   "execution_count": 8,
   "metadata": {},
   "outputs": [],
   "source": [
    "# TODO 2\n",
    "wide_columns = [\n",
    "    fc.indicator_column(fc_crossed_dloc),\n",
    "    fc.indicator_column(fc_crossed_ploc),\n",
    "    fc.indicator_column(fc_crossed_pd_pair)\n",
    "\n",
    "]\n",
    "\n",
    "deep_columns = [\n",
    "    fc.embedding_column(fc_crossed_pd_pair, dimension=10),\n",
    "\n",
    "    # Numeric columns\n",
    "    fc.numeric_column(\"pickup_latitude\"),\n",
    "    fc.numeric_column(\"pickup_longitude\"),\n",
    "    fc.numeric_column(\"dropoff_longitude\"),\n",
    "    fc.numeric_column(\"dropoff_latitude\")\n",
    "]"
   ]
  },
  {
   "cell_type": "markdown",
   "metadata": {},
   "source": [
    "## Build a Wide and Deep model in Keras\n",
    "\n",
    "To build a wide-and-deep network, we connect the sparse (i.e. wide) features directly to the output node, but pass the dense (i.e. deep) features through a set of fully connected layers. Here’s that model architecture looks using the Functional API.\n",
    "\n",
    "First, we'll create our input columns using [tf.keras.layers.Input](https://www.tensorflow.org/versions/r2.0/api_docs/python/tf/keras/Input)."
   ]
  },
  {
   "cell_type": "code",
   "execution_count": 9,
   "metadata": {},
   "outputs": [],
   "source": [
    "INPUT_COLS = [\n",
    "    'pickup_longitude',\n",
    "    'pickup_latitude',\n",
    "    'dropoff_longitude',\n",
    "    'dropoff_latitude',\n",
    "    'passenger_count'\n",
    "]\n",
    "\n",
    "inputs = {colname : Input(name=colname, shape=(), dtype='float32')\n",
    "          for colname in INPUT_COLS\n",
    "}"
   ]
  },
  {
   "cell_type": "markdown",
   "metadata": {},
   "source": [
    "Then, we'll define our custom RMSE evaluation metric and build our wide and deep model."
   ]
  },
  {
   "cell_type": "markdown",
   "metadata": {},
   "source": [
    "**Lab Task #3:** Complete the code in the function `build_model` below so that it returns a compiled Keras model. The argument `dnn_hidden_units` should represent the number of units in each layer of your network. Use the Functional API to build a wide-and-deep model. Use the `deep_columns` you created above to build the deep layers and the `wide_columns` to create the wide layers. Once you have the wide and deep components, you will combine them to feed to a final fully connected layer. "
   ]
  },
  {
   "cell_type": "code",
   "execution_count": 12,
   "metadata": {},
   "outputs": [],
   "source": [
    "def rmse(y_true, y_pred):\n",
    "    return tf.sqrt(tf.reduce_mean(tf.square(y_pred - y_true)))\n",
    "\n",
    "# TODO 3\n",
    "def build_model(dnn_hidden_units):\n",
    "    # Create the deep part of model\n",
    "    deep = DenseFeatures(deep_columns, name='deep_inputs')(inputs)\n",
    "    for nodes in dnn_hidden_units:\n",
    "        deep = Dense(nodes, activation='relu')(deep)\n",
    "    \n",
    "    # Create the wide part of model\n",
    "    wide = DenseFeatures(wide_columns, name='wide_inputs')(inputs)\n",
    "\n",
    "    # Combine deep and wide parts of the model\n",
    "    combined = concatenate(inputs=[deep, wide], name='combined')# TODO: Your code goes here.\n",
    "\n",
    "    # Map the combined outputs into a single prediction value\n",
    "    output = Dense(units=1, activation=None, name='prediction')(combined)# TODO: Your code goes here.\n",
    "    \n",
    "    # Finalize the model\n",
    "    model = Model(inputs=list(inputs.values()), outputs=output)# TODO: Your code goes here.\n",
    "\n",
    "    # Compile the keras model\n",
    "    model.compile(optimizer=\"adam\", loss=\"mse\", metrics=[rmse, \"mse\"]) # TODO: Your code goes here.\n",
    "    \n",
    "    return model"
   ]
  },
  {
   "cell_type": "markdown",
   "metadata": {},
   "source": [
    "Next, we can call the `build_model` to create the model. Here we'll have two hidden layers, each with 10 neurons, for the deep part of our model. We can also use `plot_model` to see a diagram of the model we've created."
   ]
  },
  {
   "cell_type": "code",
   "execution_count": 17,
   "metadata": {},
   "outputs": [
    {
     "data": {
      "image/png": "[encoded data removed]",
      "text/plain": [
       "<IPython.core.display.Image object>"
      ]
     },
     "execution_count": 17,
     "metadata": {},
     "output_type": "execute_result"
    }
   ],
   "source": [
    "HIDDEN_UNITS = [25,8]\n",
    "\n",
    "model = build_model(dnn_hidden_units=HIDDEN_UNITS)\n",
    "\n",
    "tf.keras.utils.plot_model(model, show_shapes=False, rankdir='LR')"
   ]
  },
  {
   "cell_type": "markdown",
   "metadata": {},
   "source": [
    "Next, we'll set up our training variables, create our datasets for training and validation, and train our model.\n",
    "\n",
    "(We refer you the the blog post [ML Design Pattern #3: Virtual Epochs](https://medium.com/google-cloud/ml-design-pattern-3-virtual-epochs-f842296de730) for further details on why express the training in terms of `NUM_TRAIN_EXAMPLES` and `NUM_EVALS` and why, in this training code, the number of epochs is really equal to the number of evaluations we perform.)"
   ]
  },
  {
   "cell_type": "code",
   "execution_count": 18,
   "metadata": {},
   "outputs": [],
   "source": [
    "BATCH_SIZE = 1000\n",
    "NUM_TRAIN_EXAMPLES = 10000 * 5  # training dataset will repeat, wrap around\n",
    "NUM_EVALS = 50  # how many times to evaluate\n",
    "NUM_EVAL_EXAMPLES = 10000  # enough to get a reasonable sample\n",
    "\n",
    "trainds = create_dataset(\n",
    "    pattern='../data/taxi-train*',\n",
    "    batch_size=BATCH_SIZE,\n",
    "    mode='train')\n",
    "\n",
    "evalds = create_dataset(\n",
    "    pattern='../data/taxi-valid*',\n",
    "    batch_size=BATCH_SIZE,\n",
    "    mode='eval').take(NUM_EVAL_EXAMPLES//1000)"
   ]
  },
  {
   "cell_type": "code",
   "execution_count": 19,
   "metadata": {},
   "outputs": [
    {
     "name": "stdout",
     "output_type": "stream",
     "text": [
      "Epoch 1/50\n",
      "1/1 [==============================] - 2s 2s/step - loss: 254.1962 - rmse: 15.9435 - mse: 254.1962 - val_loss: 235.5369 - val_rmse: 15.3372 - val_mse: 235.5369\n",
      "Epoch 2/50\n",
      "1/1 [==============================] - 2s 2s/step - loss: 201.2127 - rmse: 14.1849 - mse: 201.2127 - val_loss: 231.2388 - val_rmse: 15.1896 - val_mse: 231.2388\n",
      "Epoch 3/50\n",
      "1/1 [==============================] - 2s 2s/step - loss: 230.1623 - rmse: 15.1711 - mse: 230.1623 - val_loss: 231.1127 - val_rmse: 15.1923 - val_mse: 231.1127\n",
      "Epoch 4/50\n",
      "1/1 [==============================] - 1s 1s/step - loss: 183.0247 - rmse: 13.5287 - mse: 183.0247 - val_loss: 227.8059 - val_rmse: 15.0862 - val_mse: 227.8059\n",
      "Epoch 5/50\n",
      "1/1 [==============================] - 1s 1s/step - loss: 169.4395 - rmse: 13.0169 - mse: 169.4395 - val_loss: 222.7916 - val_rmse: 14.9181 - val_mse: 222.7916\n",
      "Epoch 6/50\n",
      "1/1 [==============================] - 2s 2s/step - loss: 214.2058 - rmse: 14.6358 - mse: 214.2058 - val_loss: 220.9337 - val_rmse: 14.8534 - val_mse: 220.9337\n",
      "Epoch 7/50\n",
      "1/1 [==============================] - 2s 2s/step - loss: 245.6298 - rmse: 15.6726 - mse: 245.6298 - val_loss: 216.7690 - val_rmse: 14.7133 - val_mse: 216.7690\n",
      "Epoch 8/50\n",
      "1/1 [==============================] - 1s 1s/step - loss: 180.8460 - rmse: 13.4479 - mse: 180.8460 - val_loss: 212.5515 - val_rmse: 14.5653 - val_mse: 212.5515\n",
      "Epoch 9/50\n",
      "1/1 [==============================] - 1s 1s/step - loss: 192.9210 - rmse: 13.8896 - mse: 192.9210 - val_loss: 208.0087 - val_rmse: 14.4120 - val_mse: 208.0087\n",
      "Epoch 10/50\n",
      "1/1 [==============================] - 2s 2s/step - loss: 195.2418 - rmse: 13.9729 - mse: 195.2418 - val_loss: 207.0373 - val_rmse: 14.3691 - val_mse: 207.0373\n",
      "Epoch 11/50\n",
      "1/1 [==============================] - 2s 2s/step - loss: 196.5948 - rmse: 14.0212 - mse: 196.5948 - val_loss: 203.3422 - val_rmse: 14.2575 - val_mse: 203.3422\n",
      "Epoch 12/50\n",
      "1/1 [==============================] - 1s 1s/step - loss: 216.3538 - rmse: 14.7090 - mse: 216.3538 - val_loss: 200.3189 - val_rmse: 14.1449 - val_mse: 200.3189\n",
      "Epoch 13/50\n",
      "1/1 [==============================] - 2s 2s/step - loss: 206.0436 - rmse: 14.3542 - mse: 206.0436 - val_loss: 199.0936 - val_rmse: 14.0937 - val_mse: 199.0936\n",
      "Epoch 14/50\n",
      "1/1 [==============================] - 2s 2s/step - loss: 156.0617 - rmse: 12.4925 - mse: 156.0617 - val_loss: 191.2075 - val_rmse: 13.8166 - val_mse: 191.2075\n",
      "Epoch 15/50\n",
      "1/1 [==============================] - 2s 2s/step - loss: 165.1809 - rmse: 12.8523 - mse: 165.1809 - val_loss: 192.4733 - val_rmse: 13.8484 - val_mse: 192.4733\n",
      "Epoch 16/50\n",
      "1/1 [==============================] - 1s 1s/step - loss: 149.3582 - rmse: 12.2212 - mse: 149.3582 - val_loss: 186.0161 - val_rmse: 13.6307 - val_mse: 186.0161\n",
      "Epoch 17/50\n",
      "1/1 [==============================] - 1s 1s/step - loss: 171.5605 - rmse: 13.0981 - mse: 171.5605 - val_loss: 182.9843 - val_rmse: 13.5187 - val_mse: 182.9843\n",
      "Epoch 18/50\n",
      "1/1 [==============================] - 1s 1s/step - loss: 190.9886 - rmse: 13.8199 - mse: 190.9886 - val_loss: 178.9608 - val_rmse: 13.3613 - val_mse: 178.9608\n",
      "Epoch 19/50\n",
      "1/1 [==============================] - 2s 2s/step - loss: 146.1935 - rmse: 12.0911 - mse: 146.1935 - val_loss: 172.8712 - val_rmse: 13.1413 - val_mse: 172.8712\n",
      "Epoch 20/50\n",
      "1/1 [==============================] - 1s 1s/step - loss: 149.0944 - rmse: 12.2104 - mse: 149.0944 - val_loss: 171.4768 - val_rmse: 13.0852 - val_mse: 171.4768\n",
      "Epoch 21/50\n",
      "1/1 [==============================] - 1s 1s/step - loss: 155.3263 - rmse: 12.4630 - mse: 155.3263 - val_loss: 169.7502 - val_rmse: 13.0049 - val_mse: 169.7502\n",
      "Epoch 22/50\n",
      "1/1 [==============================] - 2s 2s/step - loss: 146.9184 - rmse: 12.1210 - mse: 146.9184 - val_loss: 164.8158 - val_rmse: 12.8251 - val_mse: 164.8158\n",
      "Epoch 23/50\n",
      "1/1 [==============================] - 2s 2s/step - loss: 101.9751 - rmse: 10.0983 - mse: 101.9751 - val_loss: 161.4112 - val_rmse: 12.6792 - val_mse: 161.4112\n",
      "Epoch 24/50\n",
      "1/1 [==============================] - 1s 1s/step - loss: 129.6025 - rmse: 11.3843 - mse: 129.6025 - val_loss: 158.6783 - val_rmse: 12.5866 - val_mse: 158.6783\n",
      "Epoch 25/50\n",
      "1/1 [==============================] - 1s 1s/step - loss: 124.1671 - rmse: 11.1430 - mse: 124.1671 - val_loss: 151.3775 - val_rmse: 12.2936 - val_mse: 151.3775\n",
      "Epoch 26/50\n",
      "1/1 [==============================] - 2s 2s/step - loss: 142.3030 - rmse: 11.9291 - mse: 142.3030 - val_loss: 148.4631 - val_rmse: 12.1780 - val_mse: 148.4631\n",
      "Epoch 27/50\n",
      "1/1 [==============================] - 2s 2s/step - loss: 130.1807 - rmse: 11.4097 - mse: 130.1807 - val_loss: 146.3120 - val_rmse: 12.0840 - val_mse: 146.3120\n",
      "Epoch 28/50\n",
      "1/1 [==============================] - 1s 1s/step - loss: 132.1219 - rmse: 11.4944 - mse: 132.1219 - val_loss: 142.1595 - val_rmse: 11.9165 - val_mse: 142.1595\n",
      "Epoch 29/50\n",
      "1/1 [==============================] - 1s 1s/step - loss: 155.3541 - rmse: 12.4641 - mse: 155.3541 - val_loss: 138.1875 - val_rmse: 11.7297 - val_mse: 138.1875\n",
      "Epoch 30/50\n",
      "1/1 [==============================] - 2s 2s/step - loss: 103.1717 - rmse: 10.1573 - mse: 103.1717 - val_loss: 136.1288 - val_rmse: 11.6609 - val_mse: 136.1288\n",
      "Epoch 31/50\n",
      "1/1 [==============================] - 2s 2s/step - loss: 116.1551 - rmse: 10.7775 - mse: 116.1551 - val_loss: 134.0691 - val_rmse: 11.5497 - val_mse: 134.0691\n",
      "Epoch 32/50\n",
      "1/1 [==============================] - 1s 1s/step - loss: 148.8761 - rmse: 12.2015 - mse: 148.8761 - val_loss: 128.1274 - val_rmse: 11.2801 - val_mse: 128.1274\n",
      "Epoch 33/50\n",
      "1/1 [==============================] - 1s 1s/step - loss: 115.5289 - rmse: 10.7484 - mse: 115.5289 - val_loss: 127.7334 - val_rmse: 11.2890 - val_mse: 127.7334\n",
      "Epoch 34/50\n",
      "1/1 [==============================] - 2s 2s/step - loss: 75.3657 - rmse: 8.6813 - mse: 75.3657 - val_loss: 124.6068 - val_rmse: 11.1490 - val_mse: 124.6068\n",
      "Epoch 35/50\n",
      "1/1 [==============================] - 2s 2s/step - loss: 90.3148 - rmse: 9.5034 - mse: 90.3148 - val_loss: 124.9375 - val_rmse: 11.1729 - val_mse: 124.9375\n",
      "Epoch 36/50\n",
      "1/1 [==============================] - 1s 1s/step - loss: 115.3734 - rmse: 10.7412 - mse: 115.3734 - val_loss: 122.0207 - val_rmse: 11.0183 - val_mse: 122.0207\n",
      "Epoch 37/50\n",
      "1/1 [==============================] - 2s 2s/step - loss: 112.9909 - rmse: 10.6297 - mse: 112.9909 - val_loss: 117.9115 - val_rmse: 10.8483 - val_mse: 117.9115\n",
      "Epoch 38/50\n",
      "1/1 [==============================] - 2s 2s/step - loss: 106.9322 - rmse: 10.3408 - mse: 106.9322 - val_loss: 119.9027 - val_rmse: 10.9382 - val_mse: 119.9027\n",
      "Epoch 39/50\n",
      "1/1 [==============================] - 1s 1s/step - loss: 99.7043 - rmse: 9.9852 - mse: 99.7043 - val_loss: 114.9668 - val_rmse: 10.7147 - val_mse: 114.9668\n",
      "Epoch 40/50\n",
      "1/1 [==============================] - 1s 1s/step - loss: 99.6478 - rmse: 9.9824 - mse: 99.6478 - val_loss: 115.0266 - val_rmse: 10.7209 - val_mse: 115.0266\n",
      "Epoch 41/50\n",
      "1/1 [==============================] - 2s 2s/step - loss: 98.0509 - rmse: 9.9021 - mse: 98.0509 - val_loss: 112.0833 - val_rmse: 10.5743 - val_mse: 112.0833\n",
      "Epoch 42/50\n",
      "1/1 [==============================] - 2s 2s/step - loss: 85.5544 - rmse: 9.2496 - mse: 85.5544 - val_loss: 112.1721 - val_rmse: 10.5622 - val_mse: 112.1721\n",
      "Epoch 43/50\n",
      "1/1 [==============================] - 1s 1s/step - loss: 114.6019 - rmse: 10.7052 - mse: 114.6019 - val_loss: 109.5312 - val_rmse: 10.4477 - val_mse: 109.5312\n",
      "Epoch 44/50\n",
      "1/1 [==============================] - 1s 1s/step - loss: 118.6497 - rmse: 10.8926 - mse: 118.6497 - val_loss: 110.4352 - val_rmse: 10.5013 - val_mse: 110.4352\n",
      "Epoch 45/50\n",
      "1/1 [==============================] - 2s 2s/step - loss: 102.4902 - rmse: 10.1237 - mse: 102.4902 - val_loss: 111.3301 - val_rmse: 10.5414 - val_mse: 111.3301\n",
      "Epoch 46/50\n",
      "1/1 [==============================] - 1s 1s/step - loss: 74.9375 - rmse: 8.6566 - mse: 74.9375 - val_loss: 112.6076 - val_rmse: 10.5909 - val_mse: 112.6076\n",
      "Epoch 47/50\n",
      "1/1 [==============================] - 1s 1s/step - loss: 86.3971 - rmse: 9.2950 - mse: 86.3971 - val_loss: 110.1802 - val_rmse: 10.4818 - val_mse: 110.1802\n",
      "Epoch 48/50\n",
      "1/1 [==============================] - 2s 2s/step - loss: 90.5848 - rmse: 9.5176 - mse: 90.5848 - val_loss: 110.4942 - val_rmse: 10.4803 - val_mse: 110.4942\n",
      "Epoch 49/50\n",
      "1/1 [==============================] - 2s 2s/step - loss: 132.3300 - rmse: 11.5035 - mse: 132.3300 - val_loss: 111.0894 - val_rmse: 10.5349 - val_mse: 111.0894\n",
      "Epoch 50/50\n",
      "1/1 [==============================] - 1s 1s/step - loss: 86.6800 - rmse: 9.3102 - mse: 86.6800 - val_loss: 108.8526 - val_rmse: 10.4252 - val_mse: 108.8526\n",
      "CPU times: user 2min 47s, sys: 2min 6s, total: 4min 54s\n",
      "Wall time: 1min 40s\n"
     ]
    }
   ],
   "source": [
    "%%time\n",
    "steps_per_epoch = NUM_TRAIN_EXAMPLES // (BATCH_SIZE * NUM_EVALS)\n",
    "\n",
    "OUTDIR = \"./taxi_trained\"\n",
    "shutil.rmtree(path=OUTDIR, ignore_errors=True) # start fresh each time\n",
    "\n",
    "history = model.fit(x=trainds,\n",
    "                    steps_per_epoch=steps_per_epoch,\n",
    "                    epochs=NUM_EVALS,\n",
    "                    validation_data=evalds,\n",
    "                    callbacks=[TensorBoard(OUTDIR)])"
   ]
  },
  {
   "cell_type": "markdown",
   "metadata": {},
   "source": [
    "Just as before, we can examine the history to see how the RMSE changes through training on the train set and validation set. "
   ]
  },
  {
   "cell_type": "code",
   "execution_count": 20,
   "metadata": {},
   "outputs": [
    {
     "data": {
      "text/plain": [
       "<AxesSubplot:>"
      ]
     },
     "execution_count": 20,
     "metadata": {},
     "output_type": "execute_result"
    },
    {
     "data": {
      "image/png": "[encoded data removed]",
      "text/plain": [
       "<Figure size 432x288 with 1 Axes>"
      ]
     },
     "metadata": {
      "needs_background": "light"
     },
     "output_type": "display_data"
    }
   ],
   "source": [
    "RMSE_COLS = ['rmse', 'val_rmse']\n",
    "\n",
    "pd.DataFrame(history.history)[RMSE_COLS].plot()"
   ]
  },
  {
   "cell_type": "markdown",
   "metadata": {},
   "source": [
    "Copyright 2019 Google Inc. Licensed under the Apache License, Version 2.0 (the \"License\"); you may not use this file except in compliance with the License. You may obtain a copy of the License at http://www.apache.org/licenses/LICENSE-2.0 Unless required by applicable law or agreed to in writing, software distributed under the License is distributed on an \"AS IS\" BASIS, WITHOUT WARRANTIES OR CONDITIONS OF ANY KIND, either express or implied. See the License for the specific language governing permissions and limitations under the License"
   ]
  }
 ],
 "metadata": {
  "environment": {
   "name": "tf2-gpu.2-1.m69",
   "type": "gcloud",
   "uri": "gcr.io/deeplearning-platform-release/tf2-gpu.2-1:m69"
  },
  "kernelspec": {
   "display_name": "Python 3",
   "language": "python",
   "name": "python3"
  },
  "language_info": {
   "codemirror_mode": {
    "name": "ipython",
    "version": 3
   },
   "file_extension": ".py",
   "mimetype": "text/x-python",
   "name": "python",
   "nbconvert_exporter": "python",
   "pygments_lexer": "ipython3",
   "version": "3.7.10"
  }
 },
 "nbformat": 4,
 "nbformat_minor": 4
}
